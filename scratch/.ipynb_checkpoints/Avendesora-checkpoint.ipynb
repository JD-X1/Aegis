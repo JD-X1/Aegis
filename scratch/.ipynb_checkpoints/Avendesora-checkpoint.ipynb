{
 "cells": [
  {
   "cell_type": "code",
   "execution_count": null,
   "metadata": {},
   "outputs": [],
   "source": [
    "# generate the Newick string\n",
    "\n",
    "def avendesora(x):\n",
    "    \"\"\"\n",
    "    Starts tree simulation with newick format\n",
    "    with random branch length:\n",
    "    (A,(B,C);)\n",
    "    \n",
    "    Parameters:\n",
    "    x(int): number of banches\n",
    "    \n",
    "    Returns:\n",
    "    taxa(list): \n",
    "    dend(list):\n",
    "    nwk(list):\n",
    "    io(list)\n",
    "    \"\"\"\n",
    "    taxa=[]\n",
    "    verts=[]\n",
    "    lens=np.linespace(1/x,1,x)\n",
    "    bifurcation_point = 1\n",
    "    for i in range(0,x):\n",
    "        taxa.append(\"s\"+str(i))\n",
    "    tns = TaxonNamespace(taxa)\n",
    "    tree = Tree(taxon_namespace=tns)\n",
    "    for i in range(0,x):\n",
    "        if i < 2:\n",
    "            verts.append(tree.seed_node.new_child(edge_length=lens.max()))\n",
    "            verts[i].taxon \n",
    "        elif i == 2:\n",
    "            vert[i-1]edge.length = lens[i-2]\n",
    "            verts[i] = dendropy.Node(edge_length=np.random.uniform(0,1))\n",
    "            verts[i+1] = dendropy.Node(edge_length=np.random.uniform(0,1))\n",
    "            verts[i-1].set_child_nodes([verts[i], verts[i+1]])\n",
    "            \n",
    "        print(tree.as_ascii_plot())"
   ]
  },
  {
   "cell_type": "code",
   "execution_count": null,
   "metadata": {},
   "outputs": [],
   "source": [
    "x = 4\n",
    "taxa=[]\n",
    "verts=[]\n",
    "lens = []\n",
    "lens = np.linspace(1/(x-1),1,(x-1))\n",
    "\n",
    "for i in range(0,x):\n",
    "    taxa.append(\"s\"+str(i))\n",
    "\n",
    "tns = TaxonNamespace(taxa)\n",
    "tree = Tree(taxon_namespace=tns)\n",
    "\n",
    "lens "
   ]
  },
  {
   "cell_type": "code",
   "execution_count": null,
   "metadata": {},
   "outputs": [],
   "source": [
    "for i in range(0,x):\n",
    "        if i < 2:\n",
    "            verts.append(tree.seed_node.new_child(edge_length=lens.max()))\n",
    "            verts[i].taxon \n",
    "        elif i == 2:\n",
    "            verts[i-1].edge.length = lens[0]\n",
    "            verts.append(dendropy.Node(edge_length=np.random.uniform(0,1-lens[0])))\n",
    "            verts.append(dendropy.Node(edge_length=1-lens[0]))\n",
    "            verts[i-1].set_child_nodes([verts[i], verts[i+1]])\n",
    "        #elif i > 2:\n",
    "            \n",
    "            "
   ]
  },
  {
   "cell_type": "code",
   "execution_count": null,
   "metadata": {},
   "outputs": [],
   "source": [
    "for i, node in enumerate(tree.leaf.iter()):\n",
    "    node.taxon = tns.get_taxon[i]"
   ]
  },
  {
   "cell_type": "code",
   "execution_count": null,
   "metadata": {},
   "outputs": [],
   "source": [
    "tree.as_string(schema=\"newick\")"
   ]
  },
  {
   "cell_type": "code",
   "execution_count": null,
   "metadata": {},
   "outputs": [],
   "source": [
    "s = StringIO(str(tree.as_string(schema=\"newick\")))\n",
    "tree = Phylo.read(s, \"newick\")\n",
    "Phylo.draw(tree)"
   ]
  },
  {
   "cell_type": "code",
   "execution_count": null,
   "metadata": {},
   "outputs": [],
   "source": []
  },
  {
   "cell_type": "code",
   "execution_count": null,
   "metadata": {},
   "outputs": [],
   "source": []
  },
  {
   "cell_type": "code",
   "execution_count": null,
   "metadata": {},
   "outputs": [],
   "source": []
  }
 ],
 "metadata": {
  "kernelspec": {
   "display_name": "Python 3",
   "language": "python",
   "name": "python3"
  },
  "language_info": {
   "codemirror_mode": {
    "name": "ipython",
    "version": 3
   },
   "file_extension": ".py",
   "mimetype": "text/x-python",
   "name": "python",
   "nbconvert_exporter": "python",
   "pygments_lexer": "ipython3",
   "version": "3.8.10"
  }
 },
 "nbformat": 4,
 "nbformat_minor": 4
}
