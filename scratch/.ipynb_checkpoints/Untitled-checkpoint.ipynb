{
 "cells": [
  {
   "cell_type": "code",
   "execution_count": 1,
   "id": "f4926cf8",
   "metadata": {},
   "outputs": [],
   "source": [
    "import numpy as npb"
   ]
  },
  {
   "cell_type": "code",
   "execution_count": 11,
   "id": "602403e4",
   "metadata": {},
   "outputs": [],
   "source": [
    "x = np.zeros((5, 5))\n",
    "x[0] = np.random.normal(0.0, 1.0, 5)"
   ]
  },
  {
   "cell_type": "code",
   "execution_count": 15,
   "id": "14dc5aa7",
   "metadata": {},
   "outputs": [],
   "source": [
    "def simulate_evolution(num_generations, n0, zBar0, rMax, k, alpha, theta, sigmaG, num_individuals=100, dt=0.01):\n",
    "    n = np.zeros(num_generations)\n",
    "    zBar = np.zeros(num_generations)\n",
    "    mean_fitness = np.zeros(num_generations)\n",
    "    trait_values = np.zeros((num_generations, num_individuals))\n",
    "\n",
    "    # Initialize population size, mean trait value, and individual trait values\n",
    "    n[0] = n0\n",
    "    zBar[0] = zBar0\n",
    "    trait_values[0] = np.random.normal(zBar0, np.sqrt(sigmaG), num_individuals)\n",
    "\n",
    "    for t in range(1, num_generations):\n",
    "        r = rMax * (1 - (n[t-1] / k)) - alpha * 0.5 * (trait_values[t-1] - theta)**2\n",
    "        mean_fitness[t-1] = np.mean(r)\n",
    "\n",
    "        dn_dt = r * n[t-1]\n",
    "        print(n[t-1])\n",
    "        n[t] = n[t-1] + (dn_dt * dt)\n",
    "\n",
    "        dzBar_dt = sigmaG * alpha * (theta - zBar[t-1])\n",
    "        zBar[t] = zBar[t-1] + dzBar_dt * dt\n",
    "\n",
    "        # Update individual trait values\n",
    "        trait_changes = np.random.normal(0, np.sqrt(sigmaG), num_individuals) * dt\n",
    "        trait_values[t] = trait_values[t-1] + trait_changes\n",
    "\n",
    "    mean_fitness[-1] = np.mean(rMax * (1 - (n[-1] / k)) - alpha * 0.5 * (trait_values[-1] - theta)**2)\n",
    "\n",
    "    return mean_fitness, zBar, n, trait_values\n",
    "\n"
   ]
  },
  {
   "cell_type": "code",
   "execution_count": 16,
   "id": "83bbfa34",
   "metadata": {},
   "outputs": [
    {
     "name": "stdout",
     "output_type": "stream",
     "text": [
      "[  9.63015416  -4.28318736  12.00954297 -24.96912242   6.00307817\n",
      "  12.39758648   4.58444976  11.63453419  -3.89785944   7.75078971\n",
      "   0.10474499  -9.93636759 -13.44702888   1.19148635  -5.56854925\n",
      "   4.04622724   2.66809617   9.97997489   4.60341893  -4.80597968\n",
      "  10.64978252   7.60020131   4.97494549 -11.68057213  12.38025549\n",
      " -18.84048897  -6.661375     8.11275012   2.28804666   9.96661567\n",
      "   5.41874504   2.55333292   2.69783279   2.04384221   6.23447584\n",
      "  -8.2062195    5.80676369   0.28101341   9.81159839 -14.43101039\n",
      " -22.14083369   8.62176314  -7.89330328  -9.77425889   8.28855529\n",
      " -35.36608669  10.51744054  -5.95434461 -13.58091805 -41.89290824\n",
      "   8.39598345   6.98927217   9.14225815   6.53301347  -2.08524709\n",
      "   0.314763     4.76099486   4.74194173  -5.01467793  -1.43631041\n",
      "  11.54484646  -0.51761767 -19.95093585  -7.0320481  -26.09928906\n",
      "   9.12008446   2.7709518    8.3314204   12.49976998 -14.47706322\n",
      " -13.45039534  -1.01729084   8.36914338 -11.22075388  -4.68309708\n",
      "   8.66648915  -5.72292983   6.93828491   0.8963308    1.11519346\n",
      "   7.87035133   1.10573251   9.60587841  -7.31930819 -20.80618121\n",
      " -13.92963096   6.18853058   0.09569321  12.19978118  -4.67573247\n",
      "   5.18206024   4.70783975 -11.21016033  12.25890781   6.69592016\n",
      "   9.15145729   8.02894454  -0.85884955 -17.51645925   2.5076694 ]\n"
     ]
    },
    {
     "ename": "ValueError",
     "evalue": "setting an array element with a sequence.",
     "output_type": "error",
     "traceback": [
      "\u001b[0;31m---------------------------------------------------------------------------\u001b[0m",
      "\u001b[0;31mTypeError\u001b[0m                                 Traceback (most recent call last)",
      "\u001b[0;31mTypeError\u001b[0m: only size-1 arrays can be converted to Python scalars",
      "\nThe above exception was the direct cause of the following exception:\n",
      "\u001b[0;31mValueError\u001b[0m                                Traceback (most recent call last)",
      "Cell \u001b[0;32mIn[16], line 11\u001b[0m\n\u001b[1;32m      8\u001b[0m theta \u001b[38;5;241m=\u001b[39m \u001b[38;5;241m12.0\u001b[39m\n\u001b[1;32m      9\u001b[0m sigmaG \u001b[38;5;241m=\u001b[39m \u001b[38;5;241m1.0\u001b[39m\n\u001b[0;32m---> 11\u001b[0m mean_fitness, zBar, n, trait_values \u001b[38;5;241m=\u001b[39m \u001b[43msimulate_evolution\u001b[49m\u001b[43m(\u001b[49m\u001b[43mnum_generations\u001b[49m\u001b[43m,\u001b[49m\u001b[43m \u001b[49m\u001b[43mn0\u001b[49m\u001b[43m,\u001b[49m\u001b[43m \u001b[49m\u001b[43mzBar0\u001b[49m\u001b[43m,\u001b[49m\u001b[43m \u001b[49m\u001b[43mrMax\u001b[49m\u001b[43m,\u001b[49m\u001b[43m \u001b[49m\u001b[43mk\u001b[49m\u001b[43m,\u001b[49m\u001b[43m \u001b[49m\u001b[43malpha\u001b[49m\u001b[43m,\u001b[49m\u001b[43m \u001b[49m\u001b[43mtheta\u001b[49m\u001b[43m,\u001b[49m\u001b[43m \u001b[49m\u001b[43msigmaG\u001b[49m\u001b[43m)\u001b[49m\n",
      "Cell \u001b[0;32mIn[15], line 18\u001b[0m, in \u001b[0;36msimulate_evolution\u001b[0;34m(num_generations, n0, zBar0, rMax, k, alpha, theta, sigmaG, num_individuals, dt)\u001b[0m\n\u001b[1;32m     16\u001b[0m dn_dt \u001b[38;5;241m=\u001b[39m r \u001b[38;5;241m*\u001b[39m n[t\u001b[38;5;241m-\u001b[39m\u001b[38;5;241m1\u001b[39m]\n\u001b[1;32m     17\u001b[0m \u001b[38;5;28mprint\u001b[39m(dn_dt)\n\u001b[0;32m---> 18\u001b[0m \u001b[43mn\u001b[49m\u001b[43m[\u001b[49m\u001b[43mt\u001b[49m\u001b[43m]\u001b[49m \u001b[38;5;241m=\u001b[39m n[t\u001b[38;5;241m-\u001b[39m\u001b[38;5;241m1\u001b[39m] \u001b[38;5;241m+\u001b[39m (dn_dt \u001b[38;5;241m*\u001b[39m dt)\n\u001b[1;32m     20\u001b[0m dzBar_dt \u001b[38;5;241m=\u001b[39m sigmaG \u001b[38;5;241m*\u001b[39m alpha \u001b[38;5;241m*\u001b[39m (theta \u001b[38;5;241m-\u001b[39m zBar[t\u001b[38;5;241m-\u001b[39m\u001b[38;5;241m1\u001b[39m])\n\u001b[1;32m     21\u001b[0m zBar[t] \u001b[38;5;241m=\u001b[39m zBar[t\u001b[38;5;241m-\u001b[39m\u001b[38;5;241m1\u001b[39m] \u001b[38;5;241m+\u001b[39m dzBar_dt \u001b[38;5;241m*\u001b[39m dt\n",
      "\u001b[0;31mValueError\u001b[0m: setting an array element with a sequence."
     ]
    }
   ],
   "source": [
    "# Example usage\n",
    "num_generations = 1000\n",
    "n0 = 50\n",
    "zBar0 = 10.0\n",
    "rMax = 0.5\n",
    "k = 100\n",
    "alpha = 0.1\n",
    "theta = 12.0\n",
    "sigmaG = 1.0\n",
    "\n",
    "mean_fitness, zBar, n, trait_values = simulate_evolution(num_generations, n0, zBar0, rMax, k, alpha, theta, sigmaG)\n"
   ]
  }
 ],
 "metadata": {
  "kernelspec": {
   "display_name": "Python 3 (ipykernel)",
   "language": "python",
   "name": "python3"
  },
  "language_info": {
   "codemirror_mode": {
    "name": "ipython",
    "version": 3
   },
   "file_extension": ".py",
   "mimetype": "text/x-python",
   "name": "python",
   "nbconvert_exporter": "python",
   "pygments_lexer": "ipython3",
   "version": "3.11.0"
  }
 },
 "nbformat": 4,
 "nbformat_minor": 5
}
