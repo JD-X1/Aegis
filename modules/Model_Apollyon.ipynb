{
 "cells": [
  {
   "cell_type": "code",
   "execution_count": null,
   "id": "6c648668",
   "metadata": {},
   "outputs": [],
   "source": [
    "import numpy as np\n",
    "import pandas as pd\n",
    "import time\n",
    "import math\n",
    "import matplotlib.pyplot as plt\n",
    "import seaborn as sns\n",
    "from decimal import Decimal"
   ]
  },
  {
   "cell_type": "code",
   "execution_count": null,
   "id": "4e406c1d",
   "metadata": {},
   "outputs": [],
   "source": [
    "pop_size_init = 5000\n",
    "num_generations = 400\n",
    "r0 = 4.48 # Upper limmit of per capita reproduction \n",
    "b_init = b_rates[i] # init slope of reaction norm\n",
    "x_init = 10.0, # init intercept of reaction norm\n",
    "beta = 0.5 # environmental sensetivity of phenotypic selection\n",
    "K = 5000 # carrying capacity\n",
    "v = env_rates[j] # slope of environmental variables\n",
    "omegaB = 50 # width of fitness function describing the stabilizing selection on \n",
    "omegaZ = 100 # width of fitness function describing the stabilizing selection on trait z\n",
    "sigmaB = 0.25 #\n",
    "sigmaX = 0.25 #\n",
    "sigmaE = 0.5  #"
   ]
  },
  {
   "cell_type": "code",
   "execution_count": null,
   "id": "dc55e292",
   "metadata": {},
   "outputs": [],
   "source": [
    "theta = v * t\n"
   ]
  }
 ],
 "metadata": {
  "kernelspec": {
   "display_name": "Python 3 (ipykernel)",
   "language": "python",
   "name": "python3"
  },
  "language_info": {
   "codemirror_mode": {
    "name": "ipython",
    "version": 3
   },
   "file_extension": ".py",
   "mimetype": "text/x-python",
   "name": "python",
   "nbconvert_exporter": "python",
   "pygments_lexer": "ipython3",
   "version": "3.11.0"
  }
 },
 "nbformat": 4,
 "nbformat_minor": 5
}
