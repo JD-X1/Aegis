{
 "cells": [
  {
   "cell_type": "code",
   "execution_count": 8,
   "id": "d357b16f",
   "metadata": {},
   "outputs": [],
   "source": [
    "import pandas as pd\n",
    "import numpy as np\n",
    "from numpy.random import default_rng\n",
    "rng = default_rng()"
   ]
  },
  {
   "cell_type": "code",
   "execution_count": 6,
   "id": "79f13d98",
   "metadata": {},
   "outputs": [],
   "source": [
    "def niche_model(S, beta):\n",
    "    #sorted array of length = species number\n",
    "    n = sort(rng.uniform(low = 0, high = 1, size = S))\n",
    "    \n",
    "    return adj_matrix"
   ]
  },
  {
   "cell_type": "code",
   "execution_count": 15,
   "id": "92126b4d",
   "metadata": {},
   "outputs": [],
   "source": [
    "n = rng.uniform(low = 0, high = 1, size = 5)"
   ]
  },
  {
   "cell_type": "code",
   "execution_count": 16,
   "id": "6ba9e6b2",
   "metadata": {},
   "outputs": [
    {
     "data": {
      "text/plain": [
       "array([0.73260104, 0.57169058, 0.58764334, 0.79387679, 0.91164011])"
      ]
     },
     "execution_count": 16,
     "metadata": {},
     "output_type": "execute_result"
    }
   ],
   "source": [
    "n"
   ]
  },
  {
   "cell_type": "code",
   "execution_count": 17,
   "id": "f3e9ad8b",
   "metadata": {},
   "outputs": [
    {
     "data": {
      "text/plain": [
       "array([0.57169058, 0.58764334, 0.73260104, 0.79387679, 0.91164011])"
      ]
     },
     "execution_count": 17,
     "metadata": {},
     "output_type": "execute_result"
    }
   ],
   "source": [
    "np.sort(n)"
   ]
  },
  {
   "cell_type": "code",
   "execution_count": null,
   "id": "67c343ae",
   "metadata": {},
   "outputs": [],
   "source": []
  }
 ],
 "metadata": {
  "kernelspec": {
   "display_name": "Python 3 (ipykernel)",
   "language": "python",
   "name": "python3"
  },
  "language_info": {
   "codemirror_mode": {
    "name": "ipython",
    "version": 3
   },
   "file_extension": ".py",
   "mimetype": "text/x-python",
   "name": "python",
   "nbconvert_exporter": "python",
   "pygments_lexer": "ipython3",
   "version": "3.11.0"
  }
 },
 "nbformat": 4,
 "nbformat_minor": 5
}
