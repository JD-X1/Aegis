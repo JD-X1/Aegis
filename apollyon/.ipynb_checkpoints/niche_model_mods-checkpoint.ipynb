{
 "cells": [
  {
   "cell_type": "code",
   "execution_count": 7,
   "id": "d357b16f",
   "metadata": {},
   "outputs": [],
   "source": [
    "import pandas as pd\n",
    "import numpy as np\n",
    "from numpy.random import default_rng\n",
    "rng = default_rng()\n",
    "import matplotlib.pyplot as plt"
   ]
  },
  {
   "cell_type": "code",
   "execution_count": 74,
   "id": "79f13d98",
   "metadata": {},
   "outputs": [],
   "source": [
    "def niche_model(S, beta):\n",
    "    # sorted array of length = species number\n",
    "    n = np.sort(rng.uniform(low = 0, high = 1, size = S))\n",
    "    r = np.zeros(S)\n",
    "    \n",
    "    # set up alpha and beta params and loop through and add diet range values to r array\n",
    "    aleph = 1\n",
    "    b = beta\n",
    "    for i in range(0,S):\n",
    "        # random number generation from beta dist\n",
    "        x = rng.beta(aleph, beta)\n",
    "        r[i] = n[i]*x\n",
    "    \n",
    "    # Plotting Prey Range vs. Niche Value of each species\n",
    "    #plt.plot(n,r)\n",
    "    #plt.ylabel(\"Diet Range\")\n",
    "    #plt.xlabel(\"Niche Value\")\n",
    "    #plt.show()\n",
    "    \n",
    "    \n",
    "    # center of the range of each consumer\n",
    "    c = np.zeros(S)\n",
    "    for i in range(0,S):\n",
    "        c[i] = rng.uniform(low = r[i]/2, high = [n[i]])\n",
    "    \n",
    "    \n",
    "    # Determine which prey every consumer eats?\n",
    "    \n",
    "    prey = []\n",
    "    numprey = np.zeros(S)\n",
    "    \n",
    "    for i in range(0,S):\n",
    "        # establish limits of niche range\n",
    "        nmin = c[i]-(r[i]/2)\n",
    "        nmax = c[i]+(r[i]/2)\n",
    "        # determine which species fall between niche min/max\n",
    "        prey1 = (n>nmin).nonzero()\n",
    "        prey2 = (n<nmax).nonzero()\n",
    "        prey.append(np.intersect1d(prey1,prey2))\n",
    "        p_i = (prey[i]==i).nonzero()\n",
    "        if len(prey[i]) > 0 and np.any(p_i):\n",
    "            holder = prey[i]\n",
    "            holder = np.delete(holder,p_i[0])\n",
    "            prey[i] = holder\n",
    "            numprey[i] = len(prey[i])\n",
    "    #plt.plot(n,numprey)\n",
    "    #plt.ylabel(\"Prey Count\")\n",
    "    #plt.xlabel(\"Niche Value\")\n",
    "    #plt.show()\n",
    "    \n",
    "    out_mat = np.zeros((S,S), dtype = int)\n",
    "    \n",
    "    for i in range(0,S):\n",
    "        ones_vec = prey[i]\n",
    "        if np.any(ones_vec):\n",
    "            for j in ones_vec:\n",
    "                out_mat[i,j] = 1\n",
    "                out_mat[j,i] = 1\n",
    "    \n",
    "    \n",
    "    return out_mat"
   ]
  },
  {
   "cell_type": "code",
   "execution_count": 18,
   "id": "92126b4d",
   "metadata": {},
   "outputs": [],
   "source": [
    "S = 100\n",
    "C = 0.02\n",
    "n = np.sort(rng.uniform(low = 0, high = 1, size = S))\n",
    "r = np.zeros(S)"
   ]
  },
  {
   "cell_type": "code",
   "execution_count": 353,
   "id": "6ba9e6b2",
   "metadata": {},
   "outputs": [
    {
     "data": {
      "text/plain": [
       "array([9.09274507e-04, 7.19339065e-03, 3.45963054e-02, 4.59068633e-02,\n",
       "       5.03047161e-02, 6.94355851e-02, 7.67246146e-02, 7.72164568e-02,\n",
       "       9.60876357e-02, 1.04081867e-01, 1.06526371e-01, 1.30995579e-01,\n",
       "       1.35763883e-01, 1.43231015e-01, 1.60387690e-01, 1.65879563e-01,\n",
       "       1.68860027e-01, 1.79266715e-01, 1.85830009e-01, 1.86559213e-01,\n",
       "       1.95552940e-01, 2.00333668e-01, 2.02074796e-01, 2.13038860e-01,\n",
       "       2.17126948e-01, 2.74756288e-01, 2.75718438e-01, 2.89301466e-01,\n",
       "       3.40912472e-01, 3.51431900e-01, 3.57423319e-01, 3.70499688e-01,\n",
       "       3.78737850e-01, 3.86727233e-01, 3.93926761e-01, 4.14532591e-01,\n",
       "       4.31194577e-01, 4.42297906e-01, 4.76152641e-01, 4.89451151e-01,\n",
       "       4.95141048e-01, 5.00426462e-01, 5.00943923e-01, 5.09077546e-01,\n",
       "       5.18676603e-01, 5.41083891e-01, 5.43739956e-01, 5.45626058e-01,\n",
       "       5.56828620e-01, 5.61043461e-01, 5.79924834e-01, 5.81213794e-01,\n",
       "       5.86336678e-01, 6.10653037e-01, 6.23257550e-01, 6.36396246e-01,\n",
       "       6.53047047e-01, 6.67258957e-01, 6.79470192e-01, 6.81363637e-01,\n",
       "       6.84886710e-01, 6.87599170e-01, 6.90002416e-01, 7.01014254e-01,\n",
       "       7.07524466e-01, 7.24771385e-01, 7.59214833e-01, 7.88130246e-01,\n",
       "       8.04255050e-01, 8.10309074e-01, 8.15156938e-01, 8.15416800e-01,\n",
       "       8.19653818e-01, 8.27528846e-01, 8.39116386e-01, 8.41316753e-01,\n",
       "       8.43551213e-01, 8.46564643e-01, 8.54950656e-01, 8.56552669e-01,\n",
       "       8.84504129e-01, 8.86991316e-01, 9.00304623e-01, 9.00847861e-01,\n",
       "       9.01148690e-01, 9.03771329e-01, 9.04232607e-01, 9.13803519e-01,\n",
       "       9.17449829e-01, 9.19241292e-01, 9.22888368e-01, 9.24487558e-01,\n",
       "       9.29294717e-01, 9.39886301e-01, 9.47455516e-01, 9.53087041e-01,\n",
       "       9.65743608e-01, 9.84361514e-01, 9.86874061e-01, 9.96078011e-01])"
      ]
     },
     "execution_count": 353,
     "metadata": {},
     "output_type": "execute_result"
    }
   ],
   "source": [
    "n"
   ]
  },
  {
   "cell_type": "code",
   "execution_count": 354,
   "id": "f3e9ad8b",
   "metadata": {},
   "outputs": [],
   "source": [
    "aleph = 1\n",
    "beta = (1/C)-1"
   ]
  },
  {
   "cell_type": "code",
   "execution_count": 355,
   "id": "c2c76fd7",
   "metadata": {},
   "outputs": [
    {
     "data": {
      "text/plain": [
       "0.02842546776192141"
      ]
     },
     "execution_count": 355,
     "metadata": {},
     "output_type": "execute_result"
    }
   ],
   "source": [
    "rng.beta(1, beta)"
   ]
  },
  {
   "cell_type": "code",
   "execution_count": 356,
   "id": "67c343ae",
   "metadata": {},
   "outputs": [
    {
     "name": "stdout",
     "output_type": "stream",
     "text": [
      "[1.78935401e-05 2.96761926e-04 1.50672595e-03 1.59832279e-04\n",
      " 1.77642650e-03 3.76024038e-03 1.44117913e-03 1.39666720e-04\n",
      " 2.21382563e-03 2.35224209e-04 6.35413416e-04 1.14362534e-03\n",
      " 2.15805848e-03 6.02457945e-04 5.18643117e-03 5.47927240e-03\n",
      " 3.89647368e-03 1.78274933e-03 2.97234876e-03 3.87820014e-04\n",
      " 2.47784645e-03 1.09820250e-03 2.52763397e-03 2.66468962e-03\n",
      " 5.78118453e-04 7.38805320e-04 8.98766476e-04 2.36696543e-03\n",
      " 1.02763876e-02 1.01591106e-02 9.33639704e-03 2.85989512e-03\n",
      " 9.92950891e-03 6.08519344e-03 2.86948533e-03 5.35626292e-03\n",
      " 1.57441719e-02 6.20172447e-03 4.84245436e-03 2.12101169e-02\n",
      " 5.69640584e-03 8.72117185e-03 4.77172848e-04 6.02179009e-03\n",
      " 3.21830120e-02 4.73947569e-04 1.06190153e-02 1.80655784e-03\n",
      " 4.96164023e-03 1.08958159e-02 6.24093887e-03 7.15310129e-03\n",
      " 3.88311904e-03 7.33587674e-03 2.11965072e-02 1.52465008e-03\n",
      " 6.43858743e-03 1.19853102e-02 3.19128450e-03 3.08567496e-02\n",
      " 2.92733086e-03 1.31764495e-02 1.51789318e-03 2.00501038e-03\n",
      " 1.24628590e-02 1.09892055e-02 3.90627427e-03 3.52765437e-03\n",
      " 1.71285591e-02 8.80612258e-03 5.48494665e-03 4.02412846e-02\n",
      " 3.82438333e-03 2.09144689e-02 4.61941011e-03 6.90332736e-03\n",
      " 4.86659818e-02 5.58015896e-03 2.55017068e-02 4.46404750e-03\n",
      " 8.14551849e-03 8.13993141e-02 9.47972801e-03 1.11819680e-02\n",
      " 2.87512458e-02 5.31960106e-03 3.77749656e-02 2.41074674e-02\n",
      " 2.76549086e-02 1.52339920e-03 3.19871401e-03 2.35582198e-02\n",
      " 2.96512098e-03 1.33485625e-02 4.73983573e-03 6.87579262e-03\n",
      " 3.24285320e-02 8.13070397e-03 3.14739611e-02 2.70155267e-02]\n"
     ]
    }
   ],
   "source": [
    "for i in range(0,S):\n",
    "        x = rng.beta(aleph, beta)\n",
    "        r[i] = n[i]*x\n",
    "print(r)"
   ]
  },
  {
   "cell_type": "code",
   "execution_count": 357,
   "id": "75d7feb1",
   "metadata": {},
   "outputs": [
    {
     "data": {
      "image/png": "[encoded data removed]",
      "text/plain": [
       "<Figure size 432x288 with 1 Axes>"
      ]
     },
     "metadata": {
      "needs_background": "light"
     },
     "output_type": "display_data"
    }
   ],
   "source": [
    "plt.plot(n,r)\n",
    "plt.ylabel(\"Diet Range\")\n",
    "plt.xlabel(\"Niche Value\")\n",
    "plt.show()"
   ]
  },
  {
   "cell_type": "code",
   "execution_count": 358,
   "id": "7b082bde",
   "metadata": {},
   "outputs": [],
   "source": [
    "c = np.zeros(S)\n",
    "for i in range(0,S):\n",
    "    c[i] = rng.uniform(low = r[i]/2, high = [n[i]])\n"
   ]
  },
  {
   "cell_type": "code",
   "execution_count": 359,
   "id": "78e246f6",
   "metadata": {},
   "outputs": [],
   "source": [
    "prey = []\n",
    "numprey = np.zeros(S)"
   ]
  },
  {
   "cell_type": "code",
   "execution_count": 272,
   "id": "f6693d95",
   "metadata": {},
   "outputs": [
    {
     "data": {
      "text/plain": [
       "(array([], dtype=int64),)"
      ]
     },
     "execution_count": 272,
     "metadata": {},
     "output_type": "execute_result"
    }
   ],
   "source": []
  },
  {
   "cell_type": "code",
   "execution_count": null,
   "id": "d895f87d",
   "metadata": {},
   "outputs": [],
   "source": []
  },
  {
   "cell_type": "code",
   "execution_count": 360,
   "id": "213700f8",
   "metadata": {},
   "outputs": [
    {
     "ename": "ValueError",
     "evalue": "The truth value of an array with more than one element is ambiguous. Use a.any() or a.all()",
     "output_type": "error",
     "traceback": [
      "\u001b[0;31m---------------------------------------------------------------------------\u001b[0m",
      "\u001b[0;31mValueError\u001b[0m                                Traceback (most recent call last)",
      "\u001b[0;32m<ipython-input-360-7a9eb395b5e1>\u001b[0m in \u001b[0;36m<module>\u001b[0;34m\u001b[0m\n\u001b[1;32m      7\u001b[0m     \u001b[0mprey2\u001b[0m \u001b[0;34m=\u001b[0m \u001b[0;34m(\u001b[0m\u001b[0mn\u001b[0m\u001b[0;34m<\u001b[0m\u001b[0mnmax\u001b[0m\u001b[0;34m)\u001b[0m\u001b[0;34m.\u001b[0m\u001b[0mnonzero\u001b[0m\u001b[0;34m(\u001b[0m\u001b[0;34m)\u001b[0m\u001b[0;34m\u001b[0m\u001b[0;34m\u001b[0m\u001b[0m\n\u001b[1;32m      8\u001b[0m     \u001b[0mpreyClassic\u001b[0m \u001b[0;34m=\u001b[0m \u001b[0mnp\u001b[0m\u001b[0;34m.\u001b[0m\u001b[0mintersect1d\u001b[0m\u001b[0;34m(\u001b[0m\u001b[0mprey1\u001b[0m\u001b[0;34m,\u001b[0m\u001b[0mprey2\u001b[0m\u001b[0;34m)\u001b[0m\u001b[0;34m\u001b[0m\u001b[0;34m\u001b[0m\u001b[0m\n\u001b[0;32m----> 9\u001b[0;31m     \u001b[0mpreyNovus\u001b[0m \u001b[0;34m=\u001b[0m \u001b[0;34m(\u001b[0m\u001b[0mn\u001b[0m\u001b[0;34m>\u001b[0m\u001b[0mnmin\u001b[0m \u001b[0;32mand\u001b[0m \u001b[0mn\u001b[0m\u001b[0;34m<\u001b[0m\u001b[0mnmax\u001b[0m\u001b[0;34m)\u001b[0m\u001b[0;34m.\u001b[0m\u001b[0mnonzero\u001b[0m\u001b[0;34m(\u001b[0m\u001b[0;34m)\u001b[0m\u001b[0;34m\u001b[0m\u001b[0;34m\u001b[0m\u001b[0m\n\u001b[0m\u001b[1;32m     10\u001b[0m     \u001b[0;32massert\u001b[0m \u001b[0mpreyClassic\u001b[0m \u001b[0;34m==\u001b[0m \u001b[0mpreyNovus\u001b[0m\u001b[0;34m\u001b[0m\u001b[0;34m\u001b[0m\u001b[0m\n\u001b[1;32m     11\u001b[0m     \u001b[0;31m#prey.append(np.intersect1d(prey1,prey2))\u001b[0m\u001b[0;34m\u001b[0m\u001b[0;34m\u001b[0m\u001b[0;34m\u001b[0m\u001b[0m\n",
      "\u001b[0;31mValueError\u001b[0m: The truth value of an array with more than one element is ambiguous. Use a.any() or a.all()"
     ]
    }
   ],
   "source": [
    "for i in range(0,S):\n",
    "    # establish limits of niche range\n",
    "    nmin = c[i]-(r[i]/2)\n",
    "    nmax = c[i]+(r[i]/2)\n",
    "    # determine which species fall between niche min/max\n",
    "    prey1 = (n>nmin).nonzero()\n",
    "    prey2 = (n<nmax).nonzero()\n",
    "    preyClassic = np.intersect1d(prey1,prey2)\n",
    "    assert preyClassic == preyNovus\n",
    "    prey.append(np.intersect1d(prey1,prey2))\n",
    "    p_i = (prey[i]==i).nonzero()\n",
    "    if len(prey[i]) > 0 and np.any(p_i):\n",
    "        holder = prey[i]\n",
    "        holder = np.delete(holder,p_i[0])\n",
    "        prey[i] = holder\n",
    "        numprey[i] = len(prey[i])\n",
    "    "
   ]
  },
  {
   "cell_type": "code",
   "execution_count": null,
   "id": "d85c7149",
   "metadata": {},
   "outputs": [],
   "source": []
  },
  {
   "cell_type": "code",
   "execution_count": 297,
   "id": "8a6e6d6c",
   "metadata": {
    "scrolled": true
   },
   "outputs": [
    {
     "data": {
      "text/plain": [
       "[array([], dtype=int64),\n",
       " array([], dtype=int64),\n",
       " array([], dtype=int64),\n",
       " array([], dtype=int64),\n",
       " array([], dtype=int64),\n",
       " array([], dtype=int64),\n",
       " array([], dtype=int64),\n",
       " array([], dtype=int64),\n",
       " array([], dtype=int64),\n",
       " array([2, 3]),\n",
       " array([], dtype=int64),\n",
       " array([], dtype=int64),\n",
       " array([], dtype=int64),\n",
       " array([], dtype=int64),\n",
       " array([5]),\n",
       " array([], dtype=int64),\n",
       " array([10]),\n",
       " array([16]),\n",
       " array([], dtype=int64),\n",
       " array([4]),\n",
       " array([], dtype=int64),\n",
       " array([], dtype=int64),\n",
       " array([], dtype=int64),\n",
       " array([], dtype=int64),\n",
       " array([7]),\n",
       " array([17]),\n",
       " array([], dtype=int64),\n",
       " array([], dtype=int64),\n",
       " array([], dtype=int64),\n",
       " array([6]),\n",
       " array([13]),\n",
       " array([], dtype=int64),\n",
       " array([24]),\n",
       " array([17]),\n",
       " array([], dtype=int64),\n",
       " array([], dtype=int64),\n",
       " array([], dtype=int64),\n",
       " array([], dtype=int64),\n",
       " array([], dtype=int64),\n",
       " array([32, 33, 34, 35, 36, 37, 38, 40]),\n",
       " array([13, 14]),\n",
       " array([], dtype=int64),\n",
       " array([30]),\n",
       " array([], dtype=int64),\n",
       " array([], dtype=int64),\n",
       " array([22]),\n",
       " array([44]),\n",
       " array([21]),\n",
       " array([44]),\n",
       " array([], dtype=int64),\n",
       " array([18]),\n",
       " array([], dtype=int64),\n",
       " array([28, 29, 30]),\n",
       " array([17]),\n",
       " array([], dtype=int64),\n",
       " array([47]),\n",
       " array([8]),\n",
       " array([16, 17]),\n",
       " array([], dtype=int64),\n",
       " array([], dtype=int64),\n",
       " array([31]),\n",
       " array([4, 5]),\n",
       " array([27]),\n",
       " array([49]),\n",
       " array([], dtype=int64),\n",
       " array([], dtype=int64),\n",
       " array([62]),\n",
       " array([47, 48, 49]),\n",
       " array([50, 51, 52, 53, 54, 55]),\n",
       " array([68, 70, 71]),\n",
       " array([62]),\n",
       " array([27]),\n",
       " array([], dtype=int64),\n",
       " array([57, 58, 59, 60]),\n",
       " array([19, 20]),\n",
       " array([4, 5]),\n",
       " array([31]),\n",
       " array([63, 64, 65, 66]),\n",
       " array([43, 44]),\n",
       " array([], dtype=int64),\n",
       " array([], dtype=int64),\n",
       " array([47]),\n",
       " array([], dtype=int64),\n",
       " array([], dtype=int64),\n",
       " array([], dtype=int64),\n",
       " array([], dtype=int64),\n",
       " array([72, 73]),\n",
       " array([], dtype=int64),\n",
       " array([], dtype=int64),\n",
       " array([57]),\n",
       " array([8]),\n",
       " array([86, 87]),\n",
       " array([67]),\n",
       " array([51, 52]),\n",
       " array([6, 7]),\n",
       " array([73, 74, 75, 76, 77, 78]),\n",
       " array([57]),\n",
       " array([28, 29, 30, 31]),\n",
       " array([68]),\n",
       " array([43, 44, 45])]"
      ]
     },
     "execution_count": 297,
     "metadata": {},
     "output_type": "execute_result"
    }
   ],
   "source": [
    "prey"
   ]
  },
  {
   "cell_type": "code",
   "execution_count": 298,
   "id": "e1fe23e2",
   "metadata": {},
   "outputs": [
    {
     "data": {
      "image/png": "[encoded data removed]",
      "text/plain": [
       "<Figure size 432x288 with 1 Axes>"
      ]
     },
     "metadata": {
      "needs_background": "light"
     },
     "output_type": "display_data"
    }
   ],
   "source": [
    "plt.plot(n,numprey)\n",
    "plt.ylabel(\"Prey Count\")\n",
    "plt.xlabel(\"Niche Value\")\n",
    "plt.show()"
   ]
  },
  {
   "cell_type": "code",
   "execution_count": 316,
   "id": "90508d68",
   "metadata": {},
   "outputs": [
    {
     "data": {
      "text/plain": [
       "array([[0, 0, 0, ..., 0, 0, 0],\n",
       "       [0, 0, 0, ..., 0, 0, 0],\n",
       "       [0, 0, 0, ..., 0, 0, 0],\n",
       "       ...,\n",
       "       [0, 0, 0, ..., 0, 0, 0],\n",
       "       [0, 0, 0, ..., 0, 0, 0],\n",
       "       [0, 0, 0, ..., 0, 0, 0]])"
      ]
     },
     "execution_count": 316,
     "metadata": {},
     "output_type": "execute_result"
    }
   ],
   "source": [
    "out_mat = np.zeros((S,S), dtype = int)\n",
    "out_mat"
   ]
  },
  {
   "cell_type": "code",
   "execution_count": 319,
   "id": "ae755f6f",
   "metadata": {},
   "outputs": [],
   "source": [
    "for i in range(0,S):\n",
    "    ones_vec = prey[i]\n",
    "    if np.any(ones_vec):\n",
    "        for j in ones_vec:\n",
    "            out_mat[i,j] = 1\n",
    "            out_mat[j,i] = 1"
   ]
  },
  {
   "cell_type": "code",
   "execution_count": 326,
   "id": "377d88d7",
   "metadata": {},
   "outputs": [
    {
     "data": {
      "image/png": "[encoded data removed]",
      "text/plain": [
       "<Figure size 432x288 with 1 Axes>"
      ]
     },
     "metadata": {
      "needs_background": "light"
     },
     "output_type": "display_data"
    }
   ],
   "source": []
  },
  {
   "cell_type": "code",
   "execution_count": 94,
   "id": "22cd3d30",
   "metadata": {},
   "outputs": [
    {
     "data": {
      "text/plain": [
       "5.666666666666667"
      ]
     },
     "execution_count": 94,
     "metadata": {},
     "output_type": "execute_result"
    }
   ],
   "source": [
    "C = 0.15\n",
    "beta = (1/C)-1\n",
    "beta"
   ]
  },
  {
   "cell_type": "code",
   "execution_count": 109,
   "id": "5b18420f",
   "metadata": {},
   "outputs": [],
   "source": [
    "\n",
    "out_mat = niche_model(100, beta)"
   ]
  },
  {
   "cell_type": "code",
   "execution_count": 96,
   "id": "b30cf9df",
   "metadata": {},
   "outputs": [
    {
     "data": {
      "image/png": "[encoded data removed]",
      "text/plain": [
       "<Figure size 640x480 with 1 Axes>"
      ]
     },
     "metadata": {},
     "output_type": "display_data"
    }
   ],
   "source": [
    "ax = plt.gca()\n",
    "im = ax.imshow(out_mat)\n",
    "plt.show()"
   ]
  },
  {
   "cell_type": "code",
   "execution_count": 110,
   "id": "b7e485dc",
   "metadata": {},
   "outputs": [],
   "source": [
    "c = np.sum(out_mat)\n",
    "sigma = 1.0"
   ]
  },
  {
   "cell_type": "code",
   "execution_count": 111,
   "id": "164ba9dd",
   "metadata": {},
   "outputs": [],
   "source": [
    "jacobian = np.empty((S,S))\n",
    "for i in range(0,S):\n",
    "    for j in range(0,S):\n",
    "        if out_mat[i,j] == 1:\n",
    "            int_val = rng.normal(0.0,sigma)\n",
    "            int_val_rev = rng.normal(0.0,sigma)\n",
    "            jacobian[i,j] = int_val\n",
    "            jacobian[j,i] = int_val_rev"
   ]
  },
  {
   "cell_type": "code",
   "execution_count": 112,
   "id": "a2774077",
   "metadata": {},
   "outputs": [
    {
     "data": {
      "text/plain": [
       "26.480392156862745"
      ]
     },
     "execution_count": 112,
     "metadata": {},
     "output_type": "execute_result"
    }
   ],
   "source": [
    "np.sum(jacobian != 0)/(S^2)"
   ]
  },
  {
   "cell_type": "code",
   "execution_count": 113,
   "id": "76ffa12a",
   "metadata": {},
   "outputs": [],
   "source": [
    "for i in range(0,S):\n",
    "    jacobian[i,i] = -1"
   ]
  },
  {
   "cell_type": "code",
   "execution_count": 114,
   "id": "29d9c390",
   "metadata": {},
   "outputs": [],
   "source": [
    "e = np.linalg.eigvals(jacobian)\n",
    "x = [ele.real for ele in e]\n",
    "y = [ele.imag for ele in e]"
   ]
  },
  {
   "cell_type": "code",
   "execution_count": 115,
   "id": "ab310d45",
   "metadata": {},
   "outputs": [
    {
     "data": {
      "image/png": "[encoded data removed]",
      "text/plain": [
       "<Figure size 640x480 with 1 Axes>"
      ]
     },
     "metadata": {},
     "output_type": "display_data"
    }
   ],
   "source": [
    "ax = plt.scatter(x,y)\n",
    "plt.ylabel('Imaginary')\n",
    "plt.xlabel('Real')\n",
    "plt.show()"
   ]
  },
  {
   "cell_type": "code",
   "execution_count": null,
   "id": "79a71b8d",
   "metadata": {},
   "outputs": [],
   "source": []
  }
 ],
 "metadata": {
  "kernelspec": {
   "display_name": "Python 3 (ipykernel)",
   "language": "python",
   "name": "python3"
  },
  "language_info": {
   "codemirror_mode": {
    "name": "ipython",
    "version": 3
   },
   "file_extension": ".py",
   "mimetype": "text/x-python",
   "name": "python",
   "nbconvert_exporter": "python",
   "pygments_lexer": "ipython3",
   "version": "3.11.0"
  }
 },
 "nbformat": 4,
 "nbformat_minor": 5
}
